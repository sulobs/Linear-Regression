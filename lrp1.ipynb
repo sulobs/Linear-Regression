{
 "cells": [
  {
   "cell_type": "code",
   "execution_count": 1,
   "id": "30006315",
   "metadata": {},
   "outputs": [
    {
     "name": "stdout",
     "output_type": "stream",
     "text": [
      "\n",
      "intercept= 6.368595041322308\n",
      "\n",
      "slope= 11.613223140495869\n",
      "\n",
      "std_err= 9.609772363702492\n",
      "\n",
      "p= 0.29341640044365946\n",
      "\n",
      "r= 0.5171617976345066\n",
      "\n",
      "Best fit equation is : \n",
      "\n",
      "y= 11.61 + 6.37 * x\n"
     ]
    }
   ],
   "source": [
    "# find best fit line equation using Linear Regression\n",
    "# Slope - Slope of the regression line\n",
    "# Intercept - Intercept of the regression line\n",
    "# rvalue - Pearson correlation coefficient, square of rvalue is equal to the coefficient of determination\n",
    "# p-value - p-value slope is zero with t-distribution of the test statistic\n",
    "# stderr - stderr Standard error of the estimated slope \n",
    "# intercept_stderr - intercept_stderr standard error of the estimated intercept\n",
    "\n",
    "import numpy as np\n",
    "from sklearn.linear_model import LinearRegression\n",
    "from scipy import stats\n",
    "\n",
    "x=[8, 9.5, 10, 6, 7, 4]\n",
    "y=[12, 138, 147, 88, 108, 62]\n",
    "\n",
    "\n",
    "slope, intercept, r, p, std_err = stats.linregress(x, y)\n",
    "\n",
    "print('\\nintercept=', intercept)\n",
    "print('\\nslope=', slope)\n",
    "print('\\nstd_err=', std_err)\n",
    "print('\\np=', p)\n",
    "print('\\nr=', r)\n",
    "\n",
    "\n",
    "print('\\nBest fit equation is : ')\n",
    "\n",
    "y= f\"{slope:.2f} + {intercept:.2f} * x\"\n",
    "print('\\ny=', y)\n"
   ]
  },
  {
   "cell_type": "code",
   "execution_count": null,
   "id": "008b58e5",
   "metadata": {},
   "outputs": [],
   "source": []
  }
 ],
 "metadata": {
  "kernelspec": {
   "display_name": "Python 3 (ipykernel)",
   "language": "python",
   "name": "python3"
  },
  "language_info": {
   "codemirror_mode": {
    "name": "ipython",
    "version": 3
   },
   "file_extension": ".py",
   "mimetype": "text/x-python",
   "name": "python",
   "nbconvert_exporter": "python",
   "pygments_lexer": "ipython3",
   "version": "3.9.12"
  }
 },
 "nbformat": 4,
 "nbformat_minor": 5
}
